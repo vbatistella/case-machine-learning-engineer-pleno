{
 "cells": [
  {
   "cell_type": "code",
   "execution_count": 0,
   "metadata": {
    "application/vnd.databricks.v1+cell": {
     "cellMetadata": {
      "byteLimit": 2048000,
      "rowLimit": 10000
     },
     "inputWidgets": {},
     "nuid": "93c096a9-3ce3-4210-8596-2bfdb206392f",
     "showTitle": false,
     "tableResultSettingsMap": {},
     "title": ""
    }
   },
   "outputs": [
    {
     "name": "stdout",
     "output_type": "stream",
     "text": [
      "Collecting lightgbm\n",
      "  Obtaining dependency information for lightgbm from https://files.pythonhosted.org/packages/4e/19/1b928cad70a4e1a3e2c37d5417ca2182510f2451eaadb6c91cd9ec692cae/lightgbm-4.5.0-py3-none-manylinux_2_28_x86_64.whl.metadata\n",
      "  Downloading lightgbm-4.5.0-py3-none-manylinux_2_28_x86_64.whl.metadata (17 kB)\n",
      "Requirement already satisfied: numpy>=1.17.0 in /databricks/python3/lib/python3.11/site-packages (from lightgbm) (1.23.5)\n",
      "Requirement already satisfied: scipy in /databricks/python3/lib/python3.11/site-packages (from lightgbm) (1.11.1)\n",
      "Downloading lightgbm-4.5.0-py3-none-manylinux_2_28_x86_64.whl (3.6 MB)\n",
      "\u001b[?25l   \u001b[90m━━━━━━━━━━━━━━━━━━━━━━━━━━━━━━━━━━━━━━━━\u001b[0m \u001b[32m0.0/3.6 MB\u001b[0m \u001b[31m?\u001b[0m eta \u001b[36m-:--:--\u001b[0m\n",
      "\u001b[2K   \u001b[91m━\u001b[0m\u001b[90m╺\u001b[0m\u001b[90m━━━━━━━━━━━━━━━━━━━━━━━━━━━━━━━━━━━━━━\u001b[0m \u001b[32m0.1/3.6 MB\u001b[0m \u001b[31m3.4 MB/s\u001b[0m eta \u001b[36m0:00:02\u001b[0m\n",
      "\u001b[2K   \u001b[91m━━━━\u001b[0m\u001b[90m╺\u001b[0m\u001b[90m━━━━━━━━━━━━━━━━━━━━━━━━━━━━━━━━━━━\u001b[0m \u001b[32m0.4/3.6 MB\u001b[0m \u001b[31m6.2 MB/s\u001b[0m eta \u001b[36m0:00:01\u001b[0m\n",
      "\u001b[2K   \u001b[91m━━━━━━━━\u001b[0m\u001b[91m╸\u001b[0m\u001b[90m━━━━━━━━━━━━━━━━━━━━━━━━━━━━━━━\u001b[0m \u001b[32m0.8/3.6 MB\u001b[0m \u001b[31m7.7 MB/s\u001b[0m eta \u001b[36m0:00:01\u001b[0m\n",
      "\u001b[2K   \u001b[91m━━━━━━━━━━━━━\u001b[0m\u001b[91m╸\u001b[0m\u001b[90m━━━━━━━━━━━━━━━━━━━━━━━━━━\u001b[0m \u001b[32m1.2/3.6 MB\u001b[0m \u001b[31m9.1 MB/s\u001b[0m eta \u001b[36m0:00:01\u001b[0m\n",
      "\u001b[2K   \u001b[91m━━━━━━━━━━━━━━━━━━━━\u001b[0m\u001b[90m╺\u001b[0m\u001b[90m━━━━━━━━━━━━━━━━━━━\u001b[0m \u001b[32m1.8/3.6 MB\u001b[0m \u001b[31m10.5 MB/s\u001b[0m eta \u001b[36m0:00:01\u001b[0m\n",
      "\u001b[2K   \u001b[91m━━━━━━━━━━━━━━━━━━━━━━━━━━━━\u001b[0m\u001b[90m╺\u001b[0m\u001b[90m━━━━━━━━━━━\u001b[0m \u001b[32m2.5/3.6 MB\u001b[0m \u001b[31m12.1 MB/s\u001b[0m eta \u001b[36m0:00:01\u001b[0m\n",
      "\u001b[2K   \u001b[91m━━━━━━━━━━━━━━━━━━━━━━━━━━━━━━━━━━\u001b[0m\u001b[90m╺\u001b[0m\u001b[90m━━━━━\u001b[0m \u001b[32m3.0/3.6 MB\u001b[0m \u001b[31m13.2 MB/s\u001b[0m eta \u001b[36m0:00:01\u001b[0m\n",
      "\u001b[2K   \u001b[91m━━━━━━━━━━━━━━━━━━━━━━━━━━━━━━━━━━━━━━━\u001b[0m\u001b[91m╸\u001b[0m \u001b[32m3.5/3.6 MB\u001b[0m \u001b[31m13.2 MB/s\u001b[0m eta \u001b[36m0:00:01\u001b[0m\n",
      "\u001b[2K   \u001b[90m━━━━━━━━━━━━━━━━━━━━━━━━━━━━━━━━━━━━━━━━\u001b[0m \u001b[32m3.6/3.6 MB\u001b[0m \u001b[31m11.9 MB/s\u001b[0m eta \u001b[36m0:00:00\u001b[0m\n",
      "\u001b[?25hInstalling collected packages: lightgbm\n",
      "Successfully installed lightgbm-4.5.0\n",
      "\u001b[43mNote: you may need to restart the kernel using %restart_python or dbutils.library.restartPython() to use updated packages.\u001b[0m\n"
     ]
    }
   ],
   "source": [
    "!pip install lightgbm\n",
    "%restart_python"
   ]
  },
  {
   "cell_type": "code",
   "execution_count": 0,
   "metadata": {
    "application/vnd.databricks.v1+cell": {
     "cellMetadata": {
      "byteLimit": 2048000,
      "rowLimit": 10000
     },
     "inputWidgets": {},
     "nuid": "2f2f4e82-7be4-48a9-8efa-f8b3e32e60e0",
     "showTitle": false,
     "tableResultSettingsMap": {},
     "title": ""
    }
   },
   "outputs": [],
   "source": [
    "from pyspark.sql import SparkSession\n",
    "from pyspark.sql.functions import col, avg, sum as spark_sum, count, row_number, desc, dayofweek, to_timestamp, date_format, max as spark_max, min as spark_min, to_date, concat_ws\n",
    "from pyspark.sql.window import Window\n",
    "\n",
    "import os"
   ]
  },
  {
   "cell_type": "code",
   "execution_count": 0,
   "metadata": {
    "application/vnd.databricks.v1+cell": {
     "cellMetadata": {
      "byteLimit": 2048000,
      "rowLimit": 10000
     },
     "inputWidgets": {},
     "nuid": "fbb0243e-1828-464f-ad3a-a3c00ed9015c",
     "showTitle": false,
     "tableResultSettingsMap": {},
     "title": ""
    }
   },
   "outputs": [],
   "source": [
    "spark = (\n",
    "    SparkSession.builder\n",
    "    .appName(\"picpay-case\")\n",
    "    .getOrCreate()\n",
    ")"
   ]
  },
  {
   "cell_type": "code",
   "execution_count": 0,
   "metadata": {
    "application/vnd.databricks.v1+cell": {
     "cellMetadata": {
      "byteLimit": 2048000,
      "rowLimit": 10000
     },
     "inputWidgets": {},
     "nuid": "2edf8839-0a3e-4ea8-8f65-0e61abc6a7e1",
     "showTitle": false,
     "tableResultSettingsMap": {},
     "title": ""
    }
   },
   "outputs": [
    {
     "name": "stdout",
     "output_type": "stream",
     "text": [
      "336776\n",
      "+---+----+-----+---+--------+--------------+---------+--------+--------------+---------+-------+------+-------+------+----+--------+--------+----+------+-------------------+--------------------+\n",
      "| id|year|month|day|dep_time|sched_dep_time|dep_delay|arr_time|sched_arr_time|arr_delay|carrier|flight|tailnum|origin|dest|air_time|distance|hour|minute|          time_hour|                name|\n",
      "+---+----+-----+---+--------+--------------+---------+--------+--------------+---------+-------+------+-------+------+----+--------+--------+----+------+-------------------+--------------------+\n",
      "|  2|2013|    1|  1|   542.0|           540|      2.0|   923.0|           850|     33.0|     AA|  1141| N619AA|   JFK| MIA|   160.0|    1089|   5|    40|2013-01-01 05:00:00|American Airlines...|\n",
      "|  1|2013|    1|  1|   533.0|           529|      4.0|   850.0|           830|     20.0|     UA|  1714| N24211|   LGA| IAH|   227.0|    1416|   5|    29|2013-01-01 05:00:00|United Air Lines ...|\n",
      "+---+----+-----+---+--------+--------------+---------+--------+--------------+---------+-------+------+-------+------+----+--------+--------+----+------+-------------------+--------------------+\n",
      "only showing top 2 rows\n",
      "\n"
     ]
    }
   ],
   "source": [
    "df = spark.read.format(\"csv\").option(\"header\", \"true\").load(\"dbfs:/FileStore/shared_uploads/victorabatistella@gmail.com/airports_database.csv\")\n",
    "df = df.dropDuplicates()\n",
    "count_total = df.count()\n",
    "print(count_total)\n",
    "df.show(2)"
   ]
  },
  {
   "cell_type": "markdown",
   "metadata": {
    "application/vnd.databricks.v1+cell": {
     "cellMetadata": {
      "byteLimit": 2048000,
      "rowLimit": 10000
     },
     "inputWidgets": {},
     "nuid": "ea631137-bf76-45cd-832b-add62eb7b706",
     "showTitle": false,
     "tableResultSettingsMap": {},
     "title": ""
    }
   },
   "source": [
    "## 1. Qual é o número total de voos no conjunto de dados?"
   ]
  },
  {
   "cell_type": "code",
   "execution_count": 0,
   "metadata": {
    "application/vnd.databricks.v1+cell": {
     "cellMetadata": {
      "byteLimit": 2048000,
      "rowLimit": 10000
     },
     "inputWidgets": {},
     "nuid": "fd6eb5f2-74fe-4b3b-9317-ef0bfb027db1",
     "showTitle": false,
     "tableResultSettingsMap": {},
     "title": ""
    }
   },
   "outputs": [
    {
     "name": "stdout",
     "output_type": "stream",
     "text": [
      "336776\n"
     ]
    }
   ],
   "source": [
    "print(df.count())"
   ]
  },
  {
   "cell_type": "markdown",
   "metadata": {
    "application/vnd.databricks.v1+cell": {
     "cellMetadata": {
      "byteLimit": 2048000,
      "rowLimit": 10000
     },
     "inputWidgets": {},
     "nuid": "326a48c3-d7ec-478e-a12f-c36cad293586",
     "showTitle": false,
     "tableResultSettingsMap": {},
     "title": ""
    }
   },
   "source": [
    "**Resposta:** 336.776 voos total"
   ]
  },
  {
   "cell_type": "markdown",
   "metadata": {
    "application/vnd.databricks.v1+cell": {
     "cellMetadata": {
      "byteLimit": 2048000,
      "rowLimit": 10000
     },
     "inputWidgets": {},
     "nuid": "139f5f61-ac0f-421c-9758-1690c7a0bf35",
     "showTitle": false,
     "tableResultSettingsMap": {},
     "title": ""
    }
   },
   "source": [
    "## 2. Quantos voos foram cancelados?"
   ]
  },
  {
   "cell_type": "code",
   "execution_count": 0,
   "metadata": {
    "application/vnd.databricks.v1+cell": {
     "cellMetadata": {
      "byteLimit": 2048000,
      "rowLimit": 10000
     },
     "inputWidgets": {},
     "nuid": "c700f19e-bdd1-4919-8542-bc9367aaf706",
     "showTitle": false,
     "tableResultSettingsMap": {},
     "title": ""
    }
   },
   "outputs": [
    {
     "name": "stdout",
     "output_type": "stream",
     "text": [
      "8255\n",
      "2.451184169893341\n"
     ]
    }
   ],
   "source": [
    "cancelados = (\n",
    "  df\n",
    "  .filter(col(\"dep_time\").isNull())\n",
    "  .filter(col(\"arr_time\").isNull())\n",
    ")\n",
    "print(cancelados.count())\n",
    "print(cancelados.count() / count_total * 100)"
   ]
  },
  {
   "cell_type": "markdown",
   "metadata": {
    "application/vnd.databricks.v1+cell": {
     "cellMetadata": {
      "byteLimit": 2048000,
      "rowLimit": 10000
     },
     "inputWidgets": {},
     "nuid": "ab088310-17d2-47af-97be-e83bca4845ce",
     "showTitle": false,
     "tableResultSettingsMap": {},
     "title": ""
    }
   },
   "source": [
    "**Resposta**: 8.255 voos cancelados ou 2,45%"
   ]
  },
  {
   "cell_type": "markdown",
   "metadata": {
    "application/vnd.databricks.v1+cell": {
     "cellMetadata": {
      "byteLimit": 2048000,
      "rowLimit": 10000
     },
     "inputWidgets": {},
     "nuid": "1ca1ae6f-adcd-499f-be17-e655380dda18",
     "showTitle": false,
     "tableResultSettingsMap": {},
     "title": ""
    }
   },
   "source": [
    "## 3. Qual é o atraso médio na partida dos voos?"
   ]
  },
  {
   "cell_type": "code",
   "execution_count": 0,
   "metadata": {
    "application/vnd.databricks.v1+cell": {
     "cellMetadata": {
      "byteLimit": 2048000,
      "rowLimit": 10000
     },
     "inputWidgets": {},
     "nuid": "60333410-0261-4be1-a880-6bed013b61be",
     "showTitle": false,
     "tableResultSettingsMap": {},
     "title": ""
    }
   },
   "outputs": [
    {
     "name": "stdout",
     "output_type": "stream",
     "text": [
      "12.639070257304708\n"
     ]
    }
   ],
   "source": [
    "atraso =  (\n",
    "  df\n",
    "  .select(\n",
    "    avg(col(\"dep_delay\"))\n",
    "  )\n",
    ").collect()[0][0]\n",
    "print(atraso)"
   ]
  },
  {
   "cell_type": "markdown",
   "metadata": {
    "application/vnd.databricks.v1+cell": {
     "cellMetadata": {
      "byteLimit": 2048000,
      "rowLimit": 10000
     },
     "inputWidgets": {},
     "nuid": "04c84e30-f20d-44df-9633-7fd3191fdf12",
     "showTitle": false,
     "tableResultSettingsMap": {},
     "title": ""
    }
   },
   "source": [
    "**Resposta:** 12.63 minutos"
   ]
  },
  {
   "cell_type": "markdown",
   "metadata": {
    "application/vnd.databricks.v1+cell": {
     "cellMetadata": {
      "byteLimit": 2048000,
      "rowLimit": 10000
     },
     "inputWidgets": {},
     "nuid": "42323f2f-a5a4-483c-824c-2d117e164cb2",
     "showTitle": false,
     "tableResultSettingsMap": {},
     "title": ""
    }
   },
   "source": [
    "## 4. Quais são os 5 aeroportos com maior número de pousos?"
   ]
  },
  {
   "cell_type": "code",
   "execution_count": 0,
   "metadata": {
    "application/vnd.databricks.v1+cell": {
     "cellMetadata": {
      "byteLimit": 2048000,
      "rowLimit": 10000
     },
     "inputWidgets": {},
     "nuid": "cda353dd-9369-4a0a-a1b2-4b3dd75c0c6c",
     "showTitle": false,
     "tableResultSettingsMap": {},
     "title": ""
    }
   },
   "outputs": [
    {
     "name": "stdout",
     "output_type": "stream",
     "text": [
      "+----+-------------+\n",
      "|dest|total_destiny|\n",
      "+----+-------------+\n",
      "| ATL|        16873|\n",
      "| ORD|        16607|\n",
      "| LAX|        16058|\n",
      "| BOS|        15028|\n",
      "| MCO|        13979|\n",
      "+----+-------------+\n",
      "\n"
     ]
    }
   ],
   "source": [
    "window_spec = Window.orderBy(desc(col(\"total_destiny\")))\n",
    "top_5_dest_airports = (\n",
    "    df\n",
    "    .filter(col(\"dep_time\").isNotNull())\n",
    "    .filter(col(\"arr_time\").isNotNull())\n",
    "    .groupBy(col(\"dest\"))\n",
    "    .agg(count(col(\"id\")).alias(\"total_destiny\"))\n",
    "    .withColumn(\"row_number\", row_number().over(window_spec))\n",
    "    .filter(col(\"row_number\") <= 5)\n",
    "    .drop(\"row_number\")\n",
    ")\n",
    "top_5_dest_airports.show()"
   ]
  },
  {
   "cell_type": "markdown",
   "metadata": {
    "application/vnd.databricks.v1+cell": {
     "cellMetadata": {
      "byteLimit": 2048000,
      "rowLimit": 10000
     },
     "inputWidgets": {},
     "nuid": "73de7735-6294-4543-a4df-8849f0528a5a",
     "showTitle": false,
     "tableResultSettingsMap": {},
     "title": ""
    }
   },
   "source": [
    "**Resposta:**\n",
    "1. **ATL:** 16.873\n",
    "2. **BOS:** 16.607\n",
    "3. **LAX:** 16.058\n",
    "4. **BOS:** 15.028\n",
    "5. **MCO:** 13.979\n",
    "\n",
    "OBS.: Como não há pouso se o voo foi cancelado, esses foram removidos da conta."
   ]
  },
  {
   "cell_type": "markdown",
   "metadata": {
    "application/vnd.databricks.v1+cell": {
     "cellMetadata": {
      "byteLimit": 2048000,
      "rowLimit": 10000
     },
     "inputWidgets": {},
     "nuid": "5a1423cc-d4ab-4ef7-9f95-3cc8bf7aeb80",
     "showTitle": false,
     "tableResultSettingsMap": {},
     "title": ""
    }
   },
   "source": [
    "## 5. Qual é a rota mais frequente?"
   ]
  },
  {
   "cell_type": "code",
   "execution_count": 0,
   "metadata": {
    "application/vnd.databricks.v1+cell": {
     "cellMetadata": {
      "byteLimit": 2048000,
      "rowLimit": 10000
     },
     "inputWidgets": {},
     "nuid": "51785f81-a622-45d1-a7dc-7973898a64ba",
     "showTitle": false,
     "tableResultSettingsMap": {},
     "title": ""
    }
   },
   "outputs": [
    {
     "name": "stdout",
     "output_type": "stream",
     "text": [
      "+------+----+-----------+\n",
      "|origin|dest|total_route|\n",
      "+------+----+-----------+\n",
      "|   JFK| LAX|      11262|\n",
      "|   LGA| ATL|      10263|\n",
      "|   LGA| ORD|       8857|\n",
      "|   JFK| SFO|       8204|\n",
      "|   LGA| CLT|       6168|\n",
      "+------+----+-----------+\n",
      "\n"
     ]
    }
   ],
   "source": [
    "window_spec = Window.orderBy(desc(col(\"total_route\")))\n",
    "top_route = (\n",
    "    df\n",
    "    .groupBy(col(\"origin\"), col(\"dest\"))\n",
    "    .agg(count(col(\"id\")).alias(\"total_route\"))\n",
    "    .withColumn(\"row_number\", row_number().over(window_spec))\n",
    "    .filter(col(\"row_number\") <= 5)\n",
    "    .drop(\"row_number\")\n",
    ")\n",
    "top_route.show()"
   ]
  },
  {
   "cell_type": "markdown",
   "metadata": {
    "application/vnd.databricks.v1+cell": {
     "cellMetadata": {
      "byteLimit": 2048000,
      "rowLimit": 10000
     },
     "inputWidgets": {},
     "nuid": "cbffde7f-a59a-417c-984a-5a6270de3ec9",
     "showTitle": false,
     "tableResultSettingsMap": {},
     "title": ""
    }
   },
   "source": [
    "**Resposta:** JFK -> LAX com 11.262 voos."
   ]
  },
  {
   "cell_type": "markdown",
   "metadata": {
    "application/vnd.databricks.v1+cell": {
     "cellMetadata": {
      "byteLimit": 2048000,
      "rowLimit": 10000
     },
     "inputWidgets": {},
     "nuid": "26f28b52-7af7-411e-8362-4feca524abca",
     "showTitle": false,
     "tableResultSettingsMap": {},
     "title": ""
    }
   },
   "source": [
    "## 6. Quais são as 5 companhias aéreas com maior tempo médio de atraso na chegada?"
   ]
  },
  {
   "cell_type": "code",
   "execution_count": 0,
   "metadata": {
    "application/vnd.databricks.v1+cell": {
     "cellMetadata": {
      "byteLimit": 2048000,
      "rowLimit": 10000
     },
     "inputWidgets": {},
     "nuid": "7f95bd68-3a8f-4764-85f2-ba5c07afcd71",
     "showTitle": false,
     "tableResultSettingsMap": {},
     "title": ""
    }
   },
   "outputs": [
    {
     "name": "stdout",
     "output_type": "stream",
     "text": [
      "+-------+------------------+\n",
      "|carrier|         avg_delay|\n",
      "+-------+------------------+\n",
      "|     F9|21.920704845814978|\n",
      "|     FL|20.115905511811025|\n",
      "|     EV| 15.79643108710965|\n",
      "|     YV|15.556985294117647|\n",
      "|     OO|11.931034482758621|\n",
      "+-------+------------------+\n",
      "\n"
     ]
    }
   ],
   "source": [
    "window_spec = Window.orderBy(desc(col(\"avg_delay\")))\n",
    "top_delay = (\n",
    "    df\n",
    "    .groupBy(col(\"carrier\"))\n",
    "    .agg(avg(col(\"arr_delay\")).alias(\"avg_delay\"))\n",
    "    .withColumn(\"row_number\", row_number().over(window_spec))\n",
    "    .filter(col(\"row_number\") <= 5)\n",
    "    .drop(\"row_number\")\n",
    ")\n",
    "top_delay.show()"
   ]
  },
  {
   "cell_type": "markdown",
   "metadata": {
    "application/vnd.databricks.v1+cell": {
     "cellMetadata": {
      "byteLimit": 2048000,
      "rowLimit": 10000
     },
     "inputWidgets": {},
     "nuid": "5f868c2a-9940-4823-94af-0047d101085e",
     "showTitle": false,
     "tableResultSettingsMap": {},
     "title": ""
    }
   },
   "source": [
    "**Resposta:**\n",
    "1. **F9:** 21,92 minuntos\n",
    "2. **FL:** 20,11 minuntos\n",
    "3. **EV:** 15,79 minuntos\n",
    "4. **YV:** 15,55 minuntos\n",
    "5. **OO:** 11,93 minuntos"
   ]
  },
  {
   "cell_type": "markdown",
   "metadata": {
    "application/vnd.databricks.v1+cell": {
     "cellMetadata": {
      "byteLimit": 2048000,
      "rowLimit": 10000
     },
     "inputWidgets": {},
     "nuid": "64e38ac8-e47f-4869-a3dc-ad30a7284252",
     "showTitle": false,
     "tableResultSettingsMap": {},
     "title": ""
    }
   },
   "source": [
    "## 7. Qual é o dia da semana com maior número de voos?"
   ]
  },
  {
   "cell_type": "code",
   "execution_count": 0,
   "metadata": {
    "application/vnd.databricks.v1+cell": {
     "cellMetadata": {
      "byteLimit": 2048000,
      "rowLimit": 10000
     },
     "inputWidgets": {},
     "nuid": "e3f56d82-4818-4904-9d4d-57b278b571f4",
     "showTitle": false,
     "tableResultSettingsMap": {},
     "title": ""
    }
   },
   "outputs": [
    {
     "name": "stdout",
     "output_type": "stream",
     "text": [
      "+-------+------------+-------------+\n",
      "|weekday|weekday_name|total_flights|\n",
      "+-------+------------+-------------+\n",
      "|      2|      Monday|        50690|\n",
      "|      3|     Tuesday|        50422|\n",
      "|      6|      Friday|        50308|\n",
      "|      5|    Thursday|        50219|\n",
      "|      4|   Wednesday|        50060|\n",
      "|      1|      Sunday|        46357|\n",
      "|      7|    Saturday|        38720|\n",
      "+-------+------------+-------------+\n",
      "\n"
     ]
    }
   ],
   "source": [
    "top_weekday = (\n",
    "    df\n",
    "    .select(\"id\", \"time_hour\")\n",
    "    .withColumn(\"time_hour\", to_timestamp(\"time_hour\", \"yyyy-MM-dd HH:mm:ss\"))\n",
    "    .withColumn(\"weekday\", dayofweek(\"time_hour\"))\n",
    "    .withColumn(\"weekday_name\", date_format(\"time_hour\", \"EEEE\"))\n",
    "    .groupBy(col(\"weekday\"), col(\"weekday_name\"))\n",
    "    .agg(count(col(\"id\")).alias(\"total_flights\"))\n",
    "    .orderBy(desc(col(\"total_flights\")))\n",
    ")\n",
    "top_weekday.show()"
   ]
  },
  {
   "cell_type": "markdown",
   "metadata": {
    "application/vnd.databricks.v1+cell": {
     "cellMetadata": {
      "byteLimit": 2048000,
      "rowLimit": 10000
     },
     "inputWidgets": {},
     "nuid": "f0fe640d-8199-4a71-97f6-3aa1a33dd347",
     "showTitle": false,
     "tableResultSettingsMap": {},
     "title": ""
    }
   },
   "source": [
    "**Resposta**: O dia da semana com maior número de voos é Segunda com 50.690 voos."
   ]
  },
  {
   "cell_type": "markdown",
   "metadata": {
    "application/vnd.databricks.v1+cell": {
     "cellMetadata": {
      "byteLimit": 2048000,
      "rowLimit": 10000
     },
     "inputWidgets": {},
     "nuid": "998d91f0-f9b5-4e5c-be66-f5ef84837eb3",
     "showTitle": false,
     "tableResultSettingsMap": {},
     "title": ""
    }
   },
   "source": [
    "## 8. Qual o percentual mensal dos voos tiveram atraso na partida superior a 30 minutos?"
   ]
  },
  {
   "cell_type": "code",
   "execution_count": 0,
   "metadata": {
    "application/vnd.databricks.v1+cell": {
     "cellMetadata": {
      "byteLimit": 2048000,
      "rowLimit": 10000
     },
     "inputWidgets": {},
     "nuid": "fe0fe127-9762-406d-a9c6-a86ffbe24b15",
     "showTitle": false,
     "tableResultSettingsMap": {},
     "title": ""
    }
   },
   "outputs": [
    {
     "name": "stdout",
     "output_type": "stream",
     "text": [
      "+-----+------------------+\n",
      "|month|         percetage|\n",
      "+-----+------------------+\n",
      "|    9| 8.961340393123958|\n",
      "|    8| 14.78501039997272|\n",
      "|    7|21.389974511469838|\n",
      "|    6|20.575009736925963|\n",
      "|    5|15.745242394777053|\n",
      "|    4|16.321920225908933|\n",
      "|    3|15.266699035860443|\n",
      "|    2|13.085647869824857|\n",
      "|   12|17.831881997511996|\n",
      "|   11|  9.03256564471175|\n",
      "|   10| 9.581501609609195|\n",
      "|    1| 12.69441564212709|\n",
      "+-----+------------------+\n",
      "\n"
     ]
    }
   ],
   "source": [
    "total_flights_per_month = (\n",
    "    df\n",
    "    .groupBy(\"month\")\n",
    "    .agg(count(\"id\").alias(\"total_flights\"))\n",
    ")\n",
    "\n",
    "delay_30_per_month = (\n",
    "    df\n",
    "    .filter(col(\"dep_delay\") >= 30)\n",
    "    .groupBy(\"month\")\n",
    "    .agg(count(\"id\").alias(\"delay_30_flights\"))\n",
    ")\n",
    "\n",
    "perc_delay_sup_30m_per_month = (\n",
    "    total_flights_per_month\n",
    "    .join(\n",
    "        delay_30_per_month, \n",
    "        on=\"month\", \n",
    "        how=\"left\"\n",
    "    )\n",
    "    .fillna(0)\n",
    "    .withColumn(\"percetage\", (col(\"delay_30_flights\") / col(\"total_flights\")) * 100)\n",
    "    .drop(\"total_flights\")\n",
    "    .drop(\"delay_30_flights\")\n",
    "    .orderBy(desc(col(\"month\")))\n",
    ")\n",
    "perc_delay_sup_30m_per_month.show()"
   ]
  },
  {
   "cell_type": "markdown",
   "metadata": {
    "application/vnd.databricks.v1+cell": {
     "cellMetadata": {
      "byteLimit": 2048000,
      "rowLimit": 10000
     },
     "inputWidgets": {},
     "nuid": "676ffe5b-5850-4ed9-bc30-d0dd8b863ac1",
     "showTitle": false,
     "tableResultSettingsMap": {},
     "title": ""
    }
   },
   "source": [
    "**Resposta**: \n",
    "1. Janeiro: 12.69%\n",
    "2. Fevereiro: 13.09%\n",
    "3. Março: 15.27%\n",
    "4. Abril: 16.32%\n",
    "5. Maio: 15.75%\n",
    "6. Junho: 20.58%\n",
    "7. Julho: 21.39%\n",
    "8. Agosto: 14.79%\n",
    "9. Setembro: 8.96%\n",
    "10. Outubro: 9.58%\n",
    "11. Novembro: 9.03%\n",
    "12. Dezembro: 17.83%"
   ]
  },
  {
   "cell_type": "markdown",
   "metadata": {
    "application/vnd.databricks.v1+cell": {
     "cellMetadata": {
      "byteLimit": 2048000,
      "rowLimit": 10000
     },
     "inputWidgets": {},
     "nuid": "a2b13099-e729-407d-b35e-5c178767b229",
     "showTitle": false,
     "tableResultSettingsMap": {},
     "title": ""
    }
   },
   "source": [
    "## 9. Qual a origem mais comum para voos que pousaram em Seattle (SEA)?"
   ]
  },
  {
   "cell_type": "code",
   "execution_count": 0,
   "metadata": {
    "application/vnd.databricks.v1+cell": {
     "cellMetadata": {
      "byteLimit": 2048000,
      "rowLimit": 10000
     },
     "inputWidgets": {},
     "nuid": "f5d0c508-5ed1-48b4-8d36-917dd23e98df",
     "showTitle": false,
     "tableResultSettingsMap": {},
     "title": ""
    }
   },
   "outputs": [
    {
     "name": "stdout",
     "output_type": "stream",
     "text": [
      "+------+------------+\n",
      "|origin|count_origin|\n",
      "+------+------------+\n",
      "|   JFK|        2092|\n",
      "|   EWR|        1831|\n",
      "+------+------------+\n",
      "\n"
     ]
    }
   ],
   "source": [
    "window_spec = Window.orderBy(desc(col(\"count_origin\")))\n",
    "seattle_origin = (\n",
    "    df\n",
    "    .filter(col(\"dest\") == \"SEA\")\n",
    "    .groupBy(col(\"origin\"))\n",
    "    .agg(count(col(\"id\")).alias(\"count_origin\"))\n",
    "    .withColumn(\"row_number\", row_number().over(window_spec))\n",
    "    .filter(col(\"row_number\") <= 5)\n",
    "    .drop(\"row_number\")\n",
    ")\n",
    "seattle_origin.show()"
   ]
  },
  {
   "cell_type": "markdown",
   "metadata": {
    "application/vnd.databricks.v1+cell": {
     "cellMetadata": {
      "byteLimit": 2048000,
      "rowLimit": 10000
     },
     "inputWidgets": {},
     "nuid": "75f59822-6833-4963-8726-d3a6a0388db5",
     "showTitle": false,
     "tableResultSettingsMap": {},
     "title": ""
    }
   },
   "source": [
    "**Resposta**: A origem mais comum para voos para Seattle é JFK"
   ]
  },
  {
   "cell_type": "markdown",
   "metadata": {
    "application/vnd.databricks.v1+cell": {
     "cellMetadata": {
      "byteLimit": 2048000,
      "rowLimit": 10000
     },
     "inputWidgets": {},
     "nuid": "e33cebac-6090-475c-b4ef-01c1f1027a15",
     "showTitle": false,
     "tableResultSettingsMap": {},
     "title": ""
    }
   },
   "source": [
    "## 10. Qual é a média de atraso na partida dos voos (dep_delay) para cada dia da semana?"
   ]
  },
  {
   "cell_type": "code",
   "execution_count": 0,
   "metadata": {
    "application/vnd.databricks.v1+cell": {
     "cellMetadata": {
      "byteLimit": 2048000,
      "rowLimit": 10000
     },
     "inputWidgets": {},
     "nuid": "1ab22255-0c35-454a-86ec-593bd2814937",
     "showTitle": false,
     "tableResultSettingsMap": {},
     "title": ""
    }
   },
   "outputs": [
    {
     "name": "stdout",
     "output_type": "stream",
     "text": [
      "+-------+------------+------------------+\n",
      "|weekday|weekday_name|         avg_delay|\n",
      "+-------+------------+------------------+\n",
      "|      5|    Thursday|16.148919990957108|\n",
      "|      2|      Monday|14.778936729330908|\n",
      "|      6|      Friday| 14.69605749486653|\n",
      "|      4|   Wednesday|11.803512219083876|\n",
      "|      1|      Sunday|11.589531801152422|\n",
      "|      3|     Tuesday|10.631682565455652|\n",
      "|      7|    Saturday| 7.650502333676133|\n",
      "+-------+------------+------------------+\n",
      "\n"
     ]
    }
   ],
   "source": [
    "delay_avg_weekday = (\n",
    "    df\n",
    "    .withColumn(\"time_hour\", to_timestamp(\"time_hour\", \"yyyy-MM-dd HH:mm:ss\"))\n",
    "    .withColumn(\"weekday\", dayofweek(\"time_hour\"))\n",
    "    .withColumn(\"weekday_name\", date_format(\"time_hour\", \"EEEE\"))\n",
    "    .groupBy(col(\"weekday\"), col(\"weekday_name\"))\n",
    "    .agg(avg(col(\"dep_delay\")).alias(\"avg_delay\"))\n",
    "    .orderBy(desc(col(\"avg_delay\")))\n",
    ")\n",
    "delay_avg_weekday.show()"
   ]
  },
  {
   "cell_type": "markdown",
   "metadata": {
    "application/vnd.databricks.v1+cell": {
     "cellMetadata": {
      "byteLimit": 2048000,
      "rowLimit": 10000
     },
     "inputWidgets": {},
     "nuid": "6a4928b6-3245-47bf-b933-62689b448918",
     "showTitle": false,
     "tableResultSettingsMap": {},
     "title": ""
    }
   },
   "source": [
    "**Resposta**:\n",
    "1. Domingo: 11.59 minutos\n",
    "2. Segunda: 14.78 minutos\n",
    "3. Terça: 10.63 minutos\n",
    "4. Quarta: 11.80 minutos\n",
    "5. Quinta: 16.15 minutos\n",
    "6. Sexta: 14.70 minutos\n",
    "7. Sábado: 7.65 minutos"
   ]
  },
  {
   "cell_type": "markdown",
   "metadata": {
    "application/vnd.databricks.v1+cell": {
     "cellMetadata": {
      "byteLimit": 2048000,
      "rowLimit": 10000
     },
     "inputWidgets": {},
     "nuid": "956ff986-c59d-4b19-8fe4-621d830d72e9",
     "showTitle": false,
     "tableResultSettingsMap": {},
     "title": ""
    }
   },
   "source": [
    "## 11. Qual é a rota que teve o maior tempo de voo médio (air_time)?"
   ]
  },
  {
   "cell_type": "code",
   "execution_count": 0,
   "metadata": {
    "application/vnd.databricks.v1+cell": {
     "cellMetadata": {
      "byteLimit": 2048000,
      "rowLimit": 10000
     },
     "inputWidgets": {},
     "nuid": "2d1db7d3-1888-4cb8-8924-874548148122",
     "showTitle": false,
     "tableResultSettingsMap": {},
     "title": ""
    }
   },
   "outputs": [
    {
     "name": "stdout",
     "output_type": "stream",
     "text": [
      "+------+----+-----------------+\n",
      "|origin|dest|     avg_air_time|\n",
      "+------+----+-----------------+\n",
      "|   JFK| HNL|623.0877192982456|\n",
      "|   EWR| HNL| 612.075208913649|\n",
      "|   EWR| ANC|          413.125|\n",
      "|   JFK| SFO|347.4036256011839|\n",
      "|   JFK| SJC|346.6067073170732|\n",
      "+------+----+-----------------+\n",
      "\n"
     ]
    }
   ],
   "source": [
    "window_spec = Window.orderBy(desc(col(\"avg_air_time\")))\n",
    "top_airtime_route = (\n",
    "    df\n",
    "    .withColumn(\"air_time\", col(\"air_time\").cast(\"float\"))\n",
    "    .groupBy(col(\"origin\"), col(\"dest\"))\n",
    "    .agg(avg(col(\"air_time\")).alias(\"avg_air_time\"))\n",
    "    .withColumn(\"row_number\", row_number().over(window_spec))\n",
    "    .filter(col(\"row_number\") <= 5)\n",
    "    .drop(\"row_number\")\n",
    ")\n",
    "top_airtime_route.show()"
   ]
  },
  {
   "cell_type": "markdown",
   "metadata": {
    "application/vnd.databricks.v1+cell": {
     "cellMetadata": {
      "byteLimit": 2048000,
      "rowLimit": 10000
     },
     "inputWidgets": {},
     "nuid": "e4e4ef8a-ce79-4701-8abb-69d1d0e7b5c3",
     "showTitle": false,
     "tableResultSettingsMap": {},
     "title": ""
    }
   },
   "source": [
    "**Resposta**: JFK -> HNL com 623 minutos de voo"
   ]
  },
  {
   "cell_type": "markdown",
   "metadata": {
    "application/vnd.databricks.v1+cell": {
     "cellMetadata": {
      "byteLimit": 2048000,
      "rowLimit": 10000
     },
     "inputWidgets": {},
     "nuid": "164e93f4-2057-487c-b74a-bb22139320ea",
     "showTitle": false,
     "tableResultSettingsMap": {},
     "title": ""
    }
   },
   "source": [
    "## 12. Para cada aeroporto de origem, qual é o aeroporto de destino mais comum?"
   ]
  },
  {
   "cell_type": "code",
   "execution_count": 0,
   "metadata": {
    "application/vnd.databricks.v1+cell": {
     "cellMetadata": {
      "byteLimit": 2048000,
      "rowLimit": 10000
     },
     "inputWidgets": {},
     "nuid": "6a7956f6-5ba5-4fa5-8452-d2d709c6bd37",
     "showTitle": false,
     "tableResultSettingsMap": {},
     "title": ""
    }
   },
   "outputs": [
    {
     "name": "stdout",
     "output_type": "stream",
     "text": [
      "+------+----+-----------+\n",
      "|origin|dest|total_route|\n",
      "+------+----+-----------+\n",
      "|   EWR| ORD|       6100|\n",
      "|   JFK| LAX|      11262|\n",
      "|   LGA| ATL|      10263|\n",
      "+------+----+-----------+\n",
      "\n"
     ]
    }
   ],
   "source": [
    "window_spec = Window.partitionBy(\"origin\").orderBy(desc(\"total_route\"))\n",
    "top_route = (\n",
    "    df\n",
    "    .groupBy(col(\"origin\"), col(\"dest\"))\n",
    "    .agg(count(col(\"id\")).alias(\"total_route\"))\n",
    "    .withColumn(\"row_number\", row_number().over(window_spec))\n",
    "    .filter(col(\"row_number\") == 1)\n",
    "    .drop(\"row_number\")\n",
    ")\n",
    "top_route.show()"
   ]
  },
  {
   "cell_type": "markdown",
   "metadata": {
    "application/vnd.databricks.v1+cell": {
     "cellMetadata": {
      "byteLimit": 2048000,
      "rowLimit": 10000
     },
     "inputWidgets": {},
     "nuid": "c59dc0fb-6f1a-4519-8636-4152e8d12bc9",
     "showTitle": false,
     "tableResultSettingsMap": {},
     "title": ""
    }
   },
   "source": [
    "**Resposta**: \n",
    "1. EWR -> ORD com 6.100 voos\n",
    "2. JFK -> LAX com 11.262 voos\n",
    "3. LGA -> ATL com 10.263 voos"
   ]
  },
  {
   "cell_type": "markdown",
   "metadata": {
    "application/vnd.databricks.v1+cell": {
     "cellMetadata": {
      "byteLimit": 2048000,
      "rowLimit": 10000
     },
     "inputWidgets": {},
     "nuid": "83f143cf-b113-4164-9117-3eebfae64820",
     "showTitle": false,
     "tableResultSettingsMap": {},
     "title": ""
    }
   },
   "source": [
    "## 13. Quais são as 3 rotas que tiveram a maior variação no tempo médio de voo (air_time) ?"
   ]
  },
  {
   "cell_type": "code",
   "execution_count": 0,
   "metadata": {
    "application/vnd.databricks.v1+cell": {
     "cellMetadata": {
      "byteLimit": 2048000,
      "rowLimit": 10000
     },
     "inputWidgets": {},
     "nuid": "b4a108ed-d131-4d26-a470-58e60ca5a27a",
     "showTitle": false,
     "tableResultSettingsMap": {},
     "title": ""
    }
   },
   "outputs": [
    {
     "name": "stdout",
     "output_type": "stream",
     "text": [
      "+------+----+-------------+\n",
      "|origin|dest|diff_air_time|\n",
      "+------+----+-------------+\n",
      "|   JFK| SFO|        189.0|\n",
      "|   JFK| LAX|        165.0|\n",
      "|   JFK| EGE|        163.0|\n",
      "+------+----+-------------+\n",
      "\n"
     ]
    }
   ],
   "source": [
    "window_spec = Window.orderBy(desc(col(\"diff_air_time\")))\n",
    "top_diff_routes = (\n",
    "    df\n",
    "    .withColumn(\"air_time\", col(\"air_time\").cast(\"float\"))\n",
    "    .groupBy(col(\"origin\"), col(\"dest\"))\n",
    "    .agg(\n",
    "      spark_max(col(\"air_time\")).alias(\"max_air_time\"),\n",
    "      spark_min(col(\"air_time\")).alias(\"min_air_time\"),\n",
    "    )\n",
    "    .withColumn(\"diff_air_time\", col(\"max_air_time\")-col(\"min_air_time\"))\n",
    "    .withColumn(\"row_number\", row_number().over(window_spec))\n",
    "    .filter(col(\"row_number\") <= 3)\n",
    "    .drop(\"max_air_time\", \"min_air_time\", \"row_number\")\n",
    ")\n",
    "top_diff_routes.show()"
   ]
  },
  {
   "cell_type": "markdown",
   "metadata": {
    "application/vnd.databricks.v1+cell": {
     "cellMetadata": {
      "byteLimit": 2048000,
      "rowLimit": 10000
     },
     "inputWidgets": {},
     "nuid": "f3b5ff2d-2d11-41c7-9bc9-13ead9a7f19f",
     "showTitle": false,
     "tableResultSettingsMap": {},
     "title": ""
    }
   },
   "source": [
    "**Resposta**:\n",
    "1. JFK -> SFO: 189 minutos de diferença\n",
    "2. JFK -> LAX: 165 minutos de diferença\n",
    "3. JFK -> EGE: 163 minutos de diferença"
   ]
  },
  {
   "cell_type": "markdown",
   "metadata": {
    "application/vnd.databricks.v1+cell": {
     "cellMetadata": {
      "byteLimit": 2048000,
      "rowLimit": 10000
     },
     "inputWidgets": {},
     "nuid": "04bc7fa8-7fd2-4190-adde-c2ac1cd19664",
     "showTitle": false,
     "tableResultSettingsMap": {},
     "title": ""
    }
   },
   "source": [
    "## 14. Qual é a média de atraso na chegada para voos que tiveram atraso na partida superior a 1 hora?"
   ]
  },
  {
   "cell_type": "code",
   "execution_count": 0,
   "metadata": {
    "application/vnd.databricks.v1+cell": {
     "cellMetadata": {
      "byteLimit": 2048000,
      "rowLimit": 10000
     },
     "inputWidgets": {},
     "nuid": "684ce6a8-6480-4fb2-8c16-051d58b284f3",
     "showTitle": false,
     "tableResultSettingsMap": {},
     "title": ""
    }
   },
   "outputs": [
    {
     "name": "stdout",
     "output_type": "stream",
     "text": [
      "+------------------+\n",
      "|    avg(arr_delay)|\n",
      "+------------------+\n",
      "|117.94679501529737|\n",
      "+------------------+\n",
      "\n"
     ]
    }
   ],
   "source": [
    "avg_arr_delay_dep_sup_1h = (\n",
    "    df\n",
    "    .filter(col(\"dep_delay\") >= 60)\n",
    "    .select(avg(col(\"arr_delay\")))\n",
    ")\n",
    "avg_arr_delay_dep_sup_1h.show()"
   ]
  },
  {
   "cell_type": "markdown",
   "metadata": {
    "application/vnd.databricks.v1+cell": {
     "cellMetadata": {
      "byteLimit": 2048000,
      "rowLimit": 10000
     },
     "inputWidgets": {},
     "nuid": "9b96c569-33de-46ff-8b77-a1a6ba90bd2f",
     "showTitle": false,
     "tableResultSettingsMap": {},
     "title": ""
    }
   },
   "source": [
    "**Resposta:** 117,94 minutos de atras em média"
   ]
  },
  {
   "cell_type": "markdown",
   "metadata": {
    "application/vnd.databricks.v1+cell": {
     "cellMetadata": {
      "byteLimit": 2048000,
      "rowLimit": 10000
     },
     "inputWidgets": {},
     "nuid": "ee332ec3-6c3d-4586-91ed-97668d8960a5",
     "showTitle": false,
     "tableResultSettingsMap": {},
     "title": ""
    }
   },
   "source": [
    "## 15. Qual é a média de voos diários para cada mês do ano?"
   ]
  },
  {
   "cell_type": "code",
   "execution_count": 0,
   "metadata": {
    "application/vnd.databricks.v1+cell": {
     "cellMetadata": {
      "byteLimit": 2048000,
      "rowLimit": 10000
     },
     "inputWidgets": {},
     "nuid": "c4973bd8-abe2-4cd2-b14f-786963139157",
     "showTitle": false,
     "tableResultSettingsMap": {},
     "title": ""
    }
   },
   "outputs": [
    {
     "name": "stdout",
     "output_type": "stream",
     "text": [
      "+-----+------------------+\n",
      "|month|avg_n_voos_monthly|\n",
      "+-----+------------------+\n",
      "|    1| 871.0967741935484|\n",
      "|    2| 891.1071428571429|\n",
      "|    3| 930.1290322580645|\n",
      "|    4| 944.3333333333334|\n",
      "|    5| 928.9032258064516|\n",
      "|    6| 941.4333333333333|\n",
      "|    7| 949.1935483870968|\n",
      "|    8| 946.0322580645161|\n",
      "|    9| 919.1333333333333|\n",
      "|   10| 931.9032258064516|\n",
      "|   11| 908.9333333333333|\n",
      "|   12| 907.5806451612904|\n",
      "+-----+------------------+\n",
      "\n"
     ]
    }
   ],
   "source": [
    "avg_daily_flights = (\n",
    "    df\n",
    "    .groupBy(col(\"day\"), col(\"month\"))\n",
    "    .agg(count(\"id\").alias(\"n_voos\"))\n",
    "    .withColumn(\"month\", col(\"month\").cast(\"int\"))\n",
    "    .groupBy(col(\"month\"))\n",
    "    .agg(avg(\"n_voos\").alias(\"avg_n_voos_monthly\"))\n",
    "    .orderBy(col(\"month\"))\n",
    ")\n",
    "avg_daily_flights.show()"
   ]
  },
  {
   "cell_type": "markdown",
   "metadata": {
    "application/vnd.databricks.v1+cell": {
     "cellMetadata": {
      "byteLimit": 2048000,
      "rowLimit": 10000
     },
     "inputWidgets": {},
     "nuid": "1ea4d43f-0ee9-4153-9508-c9faab83cd0e",
     "showTitle": false,
     "tableResultSettingsMap": {},
     "title": ""
    }
   },
   "source": [
    "**Resposta**:\n",
    "1. Janeiro: 871.10 em média de voos diários\n",
    "2. Fevereiro: 891.11 em média de voos diários\n",
    "3. Março: 930.13 em média de voos diários\n",
    "4. Abril: 944.33 em média de voos diários\n",
    "5. Maio: 928.90 em média de voos diários\n",
    "6. Junho: 941.43 em média de voos diários\n",
    "7. Julho: 949.19 em média de voos diários\n",
    "8. Agosto: 946.03 em média de voos diários\n",
    "9. Setembro: 919.13 em média de voos diários\n",
    "10. Outubro: 931.90 em média de voos diários\n",
    "11. Novembro: 908.93 em média de voos diários\n",
    "12. Dezembro: 907.58 em média de voos diários"
   ]
  },
  {
   "cell_type": "markdown",
   "metadata": {
    "application/vnd.databricks.v1+cell": {
     "cellMetadata": {
      "byteLimit": 2048000,
      "rowLimit": 10000
     },
     "inputWidgets": {},
     "nuid": "a0170a15-3946-4a66-8864-044f545ad799",
     "showTitle": false,
     "tableResultSettingsMap": {},
     "title": ""
    }
   },
   "source": [
    "## 16. Quais são as 3 rotas mais comuns que tiveram atrasos na chegada superiores a 30 minutos?"
   ]
  },
  {
   "cell_type": "code",
   "execution_count": 0,
   "metadata": {
    "application/vnd.databricks.v1+cell": {
     "cellMetadata": {
      "byteLimit": 2048000,
      "rowLimit": 10000
     },
     "inputWidgets": {},
     "nuid": "330332b8-7552-4c4c-9a01-017594cc7f95",
     "showTitle": false,
     "tableResultSettingsMap": {},
     "title": ""
    }
   },
   "outputs": [
    {
     "name": "stdout",
     "output_type": "stream",
     "text": [
      "+------+----+\n",
      "|origin|dest|\n",
      "+------+----+\n",
      "|   JFK| LAX|\n",
      "|   LGA| ATL|\n",
      "|   LGA| ORD|\n",
      "+------+----+\n",
      "\n"
     ]
    }
   ],
   "source": [
    "top_3_routes_30m_delay = (\n",
    "    df\n",
    "    .groupBy(col(\"origin\"), col(\"dest\"))\n",
    "    .agg(\n",
    "        count(\"id\").alias(\"n_voos\"),\n",
    "        spark_max(\"arr_delay\").alias(\"max_delay\")\n",
    "    )\n",
    "    .filter(col(\"max_delay\") >= 30)\n",
    "    .orderBy(col(\"n_voos\").desc())\n",
    "    .limit(3)\n",
    "    .drop(\"n_voos\", \"max_delay\")\n",
    ")\n",
    "top_3_routes_30m_delay.show()"
   ]
  },
  {
   "cell_type": "markdown",
   "metadata": {
    "application/vnd.databricks.v1+cell": {
     "cellMetadata": {
      "byteLimit": 2048000,
      "rowLimit": 10000
     },
     "inputWidgets": {},
     "nuid": "f450cc56-ad55-438a-acf0-c9710894448d",
     "showTitle": false,
     "tableResultSettingsMap": {},
     "title": ""
    }
   },
   "source": [
    "**Resposta**:\n",
    "1. JFK -> LAX\n",
    "2. LGA -> ATL\n",
    "3. LGA -> ORD"
   ]
  },
  {
   "cell_type": "markdown",
   "metadata": {
    "application/vnd.databricks.v1+cell": {
     "cellMetadata": {
      "byteLimit": 2048000,
      "rowLimit": 10000
     },
     "inputWidgets": {},
     "nuid": "a27cdca3-1b8d-4caa-9aec-f88125024b9a",
     "showTitle": false,
     "tableResultSettingsMap": {},
     "title": ""
    }
   },
   "source": [
    "## 17. Para cada origem, qual o principal destino?"
   ]
  },
  {
   "cell_type": "code",
   "execution_count": 0,
   "metadata": {
    "application/vnd.databricks.v1+cell": {
     "cellMetadata": {
      "byteLimit": 2048000,
      "rowLimit": 10000
     },
     "inputWidgets": {},
     "nuid": "0414edd1-ab3a-433e-8c1d-61c59157bdee",
     "showTitle": false,
     "tableResultSettingsMap": {},
     "title": ""
    }
   },
   "outputs": [
    {
     "name": "stdout",
     "output_type": "stream",
     "text": [
      "+------+----+-----------+\n",
      "|origin|dest|total_route|\n",
      "+------+----+-----------+\n",
      "|   EWR| ORD|       6100|\n",
      "|   JFK| LAX|      11262|\n",
      "|   LGA| ATL|      10263|\n",
      "+------+----+-----------+\n",
      "\n"
     ]
    }
   ],
   "source": [
    "window_spec = Window.partitionBy(\"origin\").orderBy(desc(\"total_route\"))\n",
    "origin_dest_top = (\n",
    "    df\n",
    "    .groupBy(col(\"origin\"), col(\"dest\"))\n",
    "    .agg(count(col(\"id\")).alias(\"total_route\"))\n",
    "    .withColumn(\"row_number\", row_number().over(window_spec))\n",
    "    .filter(col(\"row_number\") == 1)\n",
    "    .drop(\"row_number\")\n",
    ")\n",
    "origin_dest_top.show()"
   ]
  },
  {
   "cell_type": "markdown",
   "metadata": {
    "application/vnd.databricks.v1+cell": {
     "cellMetadata": {
      "byteLimit": 2048000,
      "rowLimit": 10000
     },
     "inputWidgets": {},
     "nuid": "343627e5-83aa-4b13-9826-dea09387c7a6",
     "showTitle": false,
     "tableResultSettingsMap": {},
     "title": ""
    }
   },
   "source": [
    "**Resposta**: \n",
    "1. EWR -> ORD com 6.100 voos\n",
    "2. JFK -> LAX com 11.262 voos\n",
    "3. LGA -> ATL com 10.263 voos"
   ]
  },
  {
   "cell_type": "markdown",
   "metadata": {
    "application/vnd.databricks.v1+cell": {
     "cellMetadata": {
      "byteLimit": 2048000,
      "rowLimit": 10000
     },
     "inputWidgets": {},
     "nuid": "51b71313-bf93-4d4e-881f-43f07ba2d61b",
     "showTitle": false,
     "tableResultSettingsMap": {},
     "title": ""
    }
   },
   "source": [
    "# Feature Engineering"
   ]
  },
  {
   "cell_type": "code",
   "execution_count": 0,
   "metadata": {
    "application/vnd.databricks.v1+cell": {
     "cellMetadata": {
      "byteLimit": 2048000,
      "rowLimit": 10000
     },
     "inputWidgets": {},
     "nuid": "1ba76894-9847-4a00-8788-cf7a1edcf549",
     "showTitle": false,
     "tableResultSettingsMap": {},
     "title": ""
    }
   },
   "outputs": [],
   "source": [
    "import requests\n",
    "import time"
   ]
  },
  {
   "cell_type": "markdown",
   "metadata": {
    "application/vnd.databricks.v1+cell": {
     "cellMetadata": {
      "byteLimit": 2048000,
      "rowLimit": 10000
     },
     "inputWidgets": {},
     "nuid": "34b87e8f-b895-4df3-8f3e-ffda9c47a346",
     "showTitle": false,
     "tableResultSettingsMap": {},
     "title": ""
    }
   },
   "source": [
    "## Get Airpot data"
   ]
  },
  {
   "cell_type": "code",
   "execution_count": 0,
   "metadata": {
    "application/vnd.databricks.v1+cell": {
     "cellMetadata": {
      "byteLimit": 2048000,
      "rowLimit": 10000
     },
     "inputWidgets": {},
     "nuid": "de2ffb4f-f413-4d70-bf34-d5446fe02323",
     "showTitle": false,
     "tableResultSettingsMap": {},
     "title": ""
    }
   },
   "outputs": [],
   "source": [
    "def get_airport_data(airport, wait_time=0.5):\n",
    "    airportdb_key = 'API_KEY'\n",
    "    url =f\"https://airportdb.io/api/v1/airport/K{airport}?apiToken={airportdb_key}\"\n",
    "    response = requests.get(url)\n",
    "    data = response.json()\n",
    "    time.sleep(wait_time)\n",
    "    return data\n"
   ]
  },
  {
   "cell_type": "code",
   "execution_count": 0,
   "metadata": {
    "application/vnd.databricks.v1+cell": {
     "cellMetadata": {
      "byteLimit": 2048000,
      "rowLimit": 10000
     },
     "inputWidgets": {},
     "nuid": "43946c43-a171-47e9-bb59-46f456baa388",
     "showTitle": false,
     "tableResultSettingsMap": {},
     "title": ""
    }
   },
   "outputs": [],
   "source": [
    "distinct_airport = df.select(\"origin\").distinct().collect()\n",
    "\n",
    "data = []\n",
    "for a in distinct_airport:\n",
    "    airport = a[\"origin\"]\n",
    "    item = get_airport_data(airport)\n",
    "    data.append(\n",
    "        {\n",
    "            \"airport\": airport,\n",
    "            \"latitude_deg\": item[\"latitude_deg\"], \n",
    "            \"longitude_deg\": item[\"longitude_deg\"]\n",
    "        }\n",
    "    )\n",
    "\n",
    "airport_df = spark.createDataFrame(data)"
   ]
  },
  {
   "cell_type": "code",
   "execution_count": 0,
   "metadata": {
    "application/vnd.databricks.v1+cell": {
     "cellMetadata": {
      "byteLimit": 2048000,
      "rowLimit": 10000
     },
     "inputWidgets": {},
     "nuid": "301c52cf-6c92-4f06-afba-d37b5a9f837e",
     "showTitle": false,
     "tableResultSettingsMap": {},
     "title": ""
    }
   },
   "outputs": [
    {
     "name": "stdout",
     "output_type": "stream",
     "text": [
      "+-------+------------+-------------+\n",
      "|airport|latitude_deg|longitude_deg|\n",
      "+-------+------------+-------------+\n",
      "|    LGA|   40.777199|   -73.872597|\n",
      "|    EWR|   40.692501|   -74.168701|\n",
      "|    JFK|   40.639801|     -73.7789|\n",
      "+-------+------------+-------------+\n",
      "\n"
     ]
    }
   ],
   "source": [
    "airport_df.show()"
   ]
  },
  {
   "cell_type": "markdown",
   "metadata": {
    "application/vnd.databricks.v1+cell": {
     "cellMetadata": {
      "byteLimit": 2048000,
      "rowLimit": 10000
     },
     "inputWidgets": {},
     "nuid": "8d441e81-2b7a-493d-877e-1e46bec52e21",
     "showTitle": false,
     "tableResultSettingsMap": {},
     "title": ""
    }
   },
   "source": [
    "## Get Weather data"
   ]
  },
  {
   "cell_type": "code",
   "execution_count": 0,
   "metadata": {
    "application/vnd.databricks.v1+cell": {
     "cellMetadata": {
      "byteLimit": 2048000,
      "rowLimit": 10000
     },
     "inputWidgets": {},
     "nuid": "44595077-f899-45d8-beec-83537dfb4f14",
     "showTitle": false,
     "tableResultSettingsMap": {},
     "title": ""
    }
   },
   "outputs": [
    {
     "name": "stdout",
     "output_type": "stream",
     "text": [
      "+------+----------+--------------------+---+---+---+-------+-------+-------+--------+-----------+------------------+------------+------------+---------------+-------------------+-----------+------+----------+----+---------------+---+----+----+----------+---------+-----+-----+-----+-----------+----+----------+--------+-------------+--------+-------+\n",
      "|clouds|  datetime|               dewpt|dhi|dni|ghi|max_dhi|max_dni|max_ghi|max_temp|max_temp_ts|            max_uv|max_wind_dir|max_wind_spd|max_wind_spd_ts|           min_temp|min_temp_ts|precip|precip_gpm|pres|revision_status| rh| slp|snow|snow_depth|solar_rad|t_dhi|t_dni|t_ghi|t_solar_rad|temp|        ts|wind_dir|wind_gust_spd|wind_spd|airport|\n",
      "+------+----------+--------------------+---+---+---+-------+-------+-------+--------+-----------+------------------+------------+------------+---------------+-------------------+-----------+------+----------+----+---------------+---+----+----+----------+---------+-----+-----+-----+-----------+----+----------+--------+-------------+--------+-------+\n",
      "|    91|2013-01-01|                -5.5| 27|229| 99|     91|    772|    426|     5.0| 1357016400|0.7000000000000001|         288|        10.7|     1357095600|               -2.2| 1357099200|   0.0|       0.0|1011|          final| 53|1012| 0.0|      19.0|       25|  637| 5499| 2368|        598| 3.1|1357016400|     288|         14.6|     6.9|    LGA|\n",
      "|    90|2013-01-02|               -11.0| 27|230| 99|     92|    773|    427|     1.1| 1357156800|               0.8|         315|        10.7|     1357156800|               -4.4| 1357128000|   0.0|       0.0|1016|          final| 50|1017| 0.0|      12.0|       36|  639| 5513| 2380|        869|-1.8|1357102800|     315|         10.3|     6.1|    LGA|\n",
      "|    74|2013-01-03|                -9.7| 27|230|100|     92|    774|    429|     1.1| 1357272000|               1.8|         292|         8.0|     1357268400|               -3.3| 1357221600|   0.0|       0.0|1019|          final| 52|1020| 0.0|       8.0|       72|  641| 5528| 2393|       1722|-1.0|1357189200|     292|         10.3|     5.0|    LGA|\n",
      "|    42|2013-01-04|                -7.4| 27|231|100|     92|    775|    431|     3.3| 1357326000|               2.2|         262|        10.7|     1357308000|                1.1| 1357279200|   0.0|       0.0|1015|          final| 49|1016| 0.0|       4.0|      100|  643| 5545| 2407|       2404| 2.1|1357275600|     262|         13.9|     6.9|    LGA|\n",
      "|    50|2013-01-05|                -7.1| 27|232|101|     92|    776|    433|     6.1| 1357416000|               2.1|         275|        12.5|     1357401600|                1.1| 1357387200|   0.0|       0.0|1021|          final| 46|1022| 0.0|       0.0|      101|  645| 5562| 2422|       2417| 3.5|1357362000|     275|         14.3|     4.4|    LGA|\n",
      "|    80|2013-01-06|                -3.5| 27|233|102|     92|    777|    435|     7.8| 1357506000|               2.4|         243|         8.0|     1357513200| 1.7000000000000002| 1357470000|   0.0|       0.0|1017|          final| 56|1018| 0.0|       0.0|      102|  647| 5580| 2438|       2438| 4.8|1357448400|     243|         10.1|     4.3|    LGA|\n",
      "|    21|2013-01-07|                -4.5| 27|233|102|     93|    779|    437|     7.2| 1357585200|               2.3|         274|         8.0|     1357567200|                3.3| 1357617600|   0.0|       0.0|1024|          final| 50|1025| 0.0|       0.0|      102|  650| 5599| 2455|       2455| 5.2|1357534800|     274|          9.8|     4.2|    LGA|\n",
      "|    46|2013-01-08|                -2.7| 27|234|103|     93|    780|    440|     9.4| 1357671600|               1.8|         224|         8.9|     1357660800|                2.8| 1357639200|   0.0|       0.0|1027|          final| 55|1028| 0.0|       0.0|       94|  652| 5619| 2473|       2263| 5.7|1357621200|     224|         10.0|     3.8|    LGA|\n",
      "|    66|2013-01-09|                 0.1| 27|235|104|     93|    781|    442|    10.0| 1357776000|               0.8|         174|        11.2|     1357779600|                2.8| 1357732800|   0.0|       0.0|1024|          final| 62|1025| 0.0|       0.0|       26|  655| 5640| 2493|        612| 7.1|1357707600|     174|         15.3|     4.2|    LGA|\n",
      "|    50|2013-01-10|                -4.2| 27|236|105|     93|    783|    445|     8.9| 1357844400|               2.4|         287|        11.2|     1357833600|                4.4| 1357876800|   0.0|       0.0|1029|          final| 45|1030| 0.0|       0.0|      100|  657| 5661| 2513|       2399| 6.9|1357794000|     287|         14.5|     5.3|    LGA|\n",
      "|    93|2013-01-11|                -0.4| 27|237|106|     93|    784|    447|     7.0| 1357963200|               0.8|          69|         5.4|     1357920000|                2.8| 1357894800|  11.5|      11.5|1026|          final| 72|1027| 0.0|       0.0|       27|  660| 5684| 2534|        650| 4.5|1357880400|      69|          7.2|     3.2|    LGA|\n",
      "|   100|2013-01-12|                 5.6| 28|238|106|     94|    785|    450|     7.2| 1357984800|               0.8|          62|         5.8|     1357995600|                5.6| 1358042400|   0.5|       0.5|1019|          final| 93|1020| 0.0|       0.0|       15|  663| 5707| 2556|        372| 6.6|1357966800|      62|          6.0|     2.9|    LGA|\n",
      "|   100|2013-01-13|                 6.4| 28|239|107|     94|    787|    453|    10.0| 1358128800|               0.8|         164|         5.8|     1358110800|                5.6| 1358060400|   0.0|       0.0|1017|          final| 92|1019| 0.0|       0.0|       11|  666| 5730| 2579|        258| 7.5|1358053200|     164|          4.8|     2.6|    LGA|\n",
      "|    97|2013-01-14|                 5.5| 28|240|108|     94|    789|    456|    12.8| 1358179200|               0.8|         260|         8.9|     1358186400|                3.9| 1358222400|   0.0|       0.0|1018|          final| 76|1019| 0.0|       0.0|       25|  669| 5755| 2603|        590| 9.8|1358139600|     260|         12.4|     3.9|    LGA|\n",
      "|    99|2013-01-15|                -3.1| 28|241|109|     94|    790|    460|     3.9| 1358283600|               0.8|         195|         6.3|     1358254800|                2.0| 1358240400|   4.0|       4.0|1024|          final| 64|1025| 0.5|       0.0|       27|  672| 5780| 2628|        653| 3.2|1358226000|     195|          5.6|     3.5|    LGA|\n",
      "|   100|2013-01-16|-0.30000000000000004| 28|242|111|     95|    792|    463|     3.9| 1358395200|               0.8|         175|         9.4|     1358316000| 0.6000000000000001| 1358326800|  14.5|      14.5|1014|          final| 85|1015|28.5|       0.0|       11|  675| 5805| 2654|        265| 1.9|1358312400|     175|          6.8|     3.3|    LGA|\n",
      "|    94|2013-01-17|                -3.2| 28|243|112|     95|    794|    466|     6.1| 1358445600|               0.8|         271|         9.4|     1358438400|                2.2| 1358481600|   0.0|       0.0|1015|          final| 57|1016| 0.0|      15.0|       38|  679| 5831| 2681|        919| 4.7|1358398800|     271|          9.7|     4.8|    LGA|\n",
      "|    52|2013-01-18|               -12.6| 28|244|113|     95|    795|    470|     2.1| 1358485200|               2.5|         249|         8.9|     1358532000|               -3.3| 1358517600|   0.0|       0.0|1026|          final| 43|1027| 0.0|       0.0|      107|  682| 5858| 2708|       2575|-1.3|1358485200|     249|         10.4|     5.1|    LGA|\n",
      "|    64|2013-01-19|                -6.3| 29|245|114|     96|    797|    474|    11.1| 1358625600|               2.6|         216|         9.8|     1358611200|-0.6000000000000001| 1358571600|   0.0|       0.0|1020|          final| 44|1021| 0.0|       0.0|      114|  685| 5885| 2737|       2736| 5.2|1358571600|     216|         12.4|     6.2|    LGA|\n",
      "|    37|2013-01-20|                -6.4| 29|246|115|     96|    799|    477|    12.2| 1358701200|               1.9|         256|        15.6|     1358715600|-0.6000000000000001| 1358740800|   0.0|       0.0|1008|          final| 40|1010| 0.0|       0.0|      109|  689| 5913| 2766|       2626| 6.9|1358658000|     256|         20.1|     7.6|    LGA|\n",
      "+------+----------+--------------------+---+---+---+-------+-------+-------+--------+-----------+------------------+------------+------------+---------------+-------------------+-----------+------+----------+----+---------------+---+----+----+----------+---------+-----+-----+-----+-----------+----+----------+--------+-------------+--------+-------+\n",
      "only showing top 20 rows\n",
      "\n"
     ]
    }
   ],
   "source": [
    "weather_df = spark.read.format(\"csv\").option(\"header\", \"true\").load(\"dbfs:/FileStore/shared_uploads/victorabatistella@gmail.com/weather_data.csv\")\n",
    "weather_df = weather_df.withColumn(\"datetime\", to_date(\"datetime\", \"yyyy-MM-dd\"))\n",
    "weather_df.show()"
   ]
  },
  {
   "cell_type": "markdown",
   "metadata": {
    "application/vnd.databricks.v1+cell": {
     "cellMetadata": {
      "byteLimit": 2048000,
      "rowLimit": 10000
     },
     "inputWidgets": {},
     "nuid": "550f5cc8-309c-4d5c-96b1-d29797fbf29b",
     "showTitle": false,
     "tableResultSettingsMap": {},
     "title": ""
    }
   },
   "source": [
    "## Feature Dataset"
   ]
  },
  {
   "cell_type": "code",
   "execution_count": 0,
   "metadata": {
    "application/vnd.databricks.v1+cell": {
     "cellMetadata": {
      "byteLimit": 2048000,
      "rowLimit": 10000
     },
     "inputWidgets": {},
     "nuid": "2caef26e-5a98-426e-95e5-68ef2f2621e4",
     "showTitle": false,
     "tableResultSettingsMap": {},
     "title": ""
    }
   },
   "outputs": [
    {
     "name": "stdout",
     "output_type": "stream",
     "text": [
      "+--------------+--------------+--------+------+----+--------+------+----+---------+\n",
      "|sched_dep_time|sched_arr_time|distance|clouds|pres|wind_spd|precip|snow|dep_delay|\n",
      "+--------------+--------------+--------+------+----+--------+------+----+---------+\n",
      "|           540|           850|    1089|    96|1012|     6.8|   0.0| 0.0|      2.0|\n",
      "|           600|           910|    1389|    91|1011|     6.9|   0.0| 0.0|     -1.0|\n",
      "|           600|           825|     762|    91|1011|     6.9|   0.0| 0.0|      0.0|\n",
      "|           559|           706|     187|    96|1012|     6.8|   0.0| 0.0|      0.0|\n",
      "|           600|           937|    2565|    93|1011|     5.8|   0.0| 0.0|     -2.0|\n",
      "|           600|           902|    2227|    93|1011|     5.8|   0.0| 0.0|     -1.0|\n",
      "|           600|           851|    1028|    96|1012|     6.8|   0.0| 0.0|     -2.0|\n",
      "|           600|           856|    1005|    96|1012|     6.8|   0.0| 0.0|     -2.0|\n",
      "|           600|           846|     944|    96|1012|     6.8|   0.0| 0.0|     -3.0|\n",
      "|           558|           728|     719|    93|1011|     5.8|   0.0| 0.0|     -4.0|\n",
      "|           529|           830|    1416|    91|1011|     6.9|   0.0| 0.0|      4.0|\n",
      "|           600|           917|    2475|    96|1012|     6.8|   0.0| 0.0|     -2.0|\n",
      "|           600|           858|    1076|    91|1011|     6.9|   0.0| 0.0|      0.0|\n",
      "|           545|          1022|    1576|    96|1012|     6.8|   0.0| 0.0|     -1.0|\n",
      "|           600|           837|     762|    91|1011|     6.9|   0.0| 0.0|     -6.0|\n",
      "|           600|           723|     229|    91|1011|     6.9|   0.0| 0.0|     -3.0|\n",
      "|           610|           820|    1020|    91|1011|     6.9|   0.0| 0.0|     -8.0|\n",
      "|           600|           850|    1023|    93|1011|     5.8|   0.0| 0.0|      1.0|\n",
      "|           515|           819|    1400|    93|1011|     5.8|   0.0| 0.0|      2.0|\n",
      "|           600|           745|     733|    91|1011|     6.9|   0.0| 0.0|     -2.0|\n",
      "+--------------+--------------+--------+------+----+--------+------+----+---------+\n",
      "only showing top 20 rows\n",
      "\n"
     ]
    }
   ],
   "source": [
    "features_df = (\n",
    "    df\n",
    "    .withColumn(\"date\", to_date(col(\"time_hour\"), \"yyyy-MM-dd HH:mm:ss\"))\n",
    "    .join(\n",
    "        weather_df, \n",
    "        on=(col(\"date\") == col(\"datetime\")) & (col(\"origin\") == col(\"airport\")),\n",
    "        how=\"left\"\n",
    "    )\n",
    "    .select(\n",
    "        col(\"sched_dep_time\"),\n",
    "        col(\"sched_arr_time\"),\n",
    "        col(\"distance\"),\n",
    "        col(\"clouds\"),\n",
    "        col(\"pres\"),\n",
    "        col(\"wind_spd\"),\n",
    "        col(\"precip\"),\n",
    "        col(\"snow\"),\n",
    "        col(\"dep_delay\"),\n",
    "    )\n",
    "    .filter(col(\"dep_delay\").isNotNull())\n",
    ")\n",
    "\n",
    "features_df.show()"
   ]
  },
  {
   "cell_type": "markdown",
   "metadata": {
    "application/vnd.databricks.v1+cell": {
     "cellMetadata": {
      "byteLimit": 2048000,
      "rowLimit": 10000
     },
     "inputWidgets": {},
     "nuid": "3360d6fc-3198-4b50-a551-c2f559826362",
     "showTitle": false,
     "tableResultSettingsMap": {},
     "title": ""
    }
   },
   "source": [
    "# Train model"
   ]
  },
  {
   "cell_type": "code",
   "execution_count": 0,
   "metadata": {
    "application/vnd.databricks.v1+cell": {
     "cellMetadata": {
      "byteLimit": 2048000,
      "rowLimit": 10000
     },
     "inputWidgets": {},
     "nuid": "a9b44bc9-daa6-491f-aa93-8162cbfcb522",
     "showTitle": false,
     "tableResultSettingsMap": {},
     "title": ""
    }
   },
   "outputs": [],
   "source": [
    "import pandas as pd\n",
    "from sklearn.model_selection import train_test_split\n",
    "from sklearn.preprocessing import StandardScaler\n",
    "import lightgbm as lgb\n",
    "from sklearn.metrics import mean_absolute_error, mean_squared_error, r2_score\n",
    "from sklearn.impute import SimpleImputer\n",
    "import pickle\n",
    "import numpy as np"
   ]
  },
  {
   "cell_type": "markdown",
   "metadata": {
    "application/vnd.databricks.v1+cell": {
     "cellMetadata": {
      "byteLimit": 2048000,
      "rowLimit": 10000
     },
     "inputWidgets": {},
     "nuid": "2f446661-6d75-49e5-8154-2816ea9a87e8",
     "showTitle": false,
     "tableResultSettingsMap": {},
     "title": ""
    }
   },
   "source": [
    "## Prepare X and Y"
   ]
  },
  {
   "cell_type": "code",
   "execution_count": 0,
   "metadata": {
    "application/vnd.databricks.v1+cell": {
     "cellMetadata": {
      "byteLimit": 2048000,
      "rowLimit": 10000
     },
     "inputWidgets": {},
     "nuid": "9850b7fe-bbf6-4eb7-8cfd-7109eb59bee4",
     "showTitle": false,
     "tableResultSettingsMap": {},
     "title": ""
    }
   },
   "outputs": [],
   "source": [
    "features = features_df.toPandas()\n",
    "# Divide into X an Y\n",
    "X = features.drop(columns=[\"dep_delay\"])\n",
    "y = features[\"dep_delay\"]"
   ]
  },
  {
   "cell_type": "markdown",
   "metadata": {
    "application/vnd.databricks.v1+cell": {
     "cellMetadata": {
      "byteLimit": 2048000,
      "rowLimit": 10000
     },
     "inputWidgets": {},
     "nuid": "e88b6697-ab54-4b8f-be99-6f0e40561933",
     "showTitle": false,
     "tableResultSettingsMap": {},
     "title": ""
    }
   },
   "source": [
    "## Treat Null values on X"
   ]
  },
  {
   "cell_type": "code",
   "execution_count": 0,
   "metadata": {
    "application/vnd.databricks.v1+cell": {
     "cellMetadata": {
      "byteLimit": 2048000,
      "rowLimit": 10000
     },
     "inputWidgets": {},
     "nuid": "aa18d939-b368-4506-a607-84e50e2c6dd1",
     "showTitle": false,
     "tableResultSettingsMap": {},
     "title": ""
    }
   },
   "outputs": [],
   "source": [
    "# Add median to Null and NaN values\n",
    "imputer = SimpleImputer(strategy='median') \n",
    "X_imputed = imputer.fit_transform(X)"
   ]
  },
  {
   "cell_type": "markdown",
   "metadata": {
    "application/vnd.databricks.v1+cell": {
     "cellMetadata": {
      "byteLimit": 2048000,
      "rowLimit": 10000
     },
     "inputWidgets": {},
     "nuid": "505f753c-5701-4a2b-9012-a2f7846e7ed7",
     "showTitle": false,
     "tableResultSettingsMap": {},
     "title": ""
    }
   },
   "source": [
    "## Normalize"
   ]
  },
  {
   "cell_type": "code",
   "execution_count": 0,
   "metadata": {
    "application/vnd.databricks.v1+cell": {
     "cellMetadata": {
      "byteLimit": 2048000,
      "rowLimit": 10000
     },
     "inputWidgets": {},
     "nuid": "e89924ed-a891-4935-8463-e070727f4dcd",
     "showTitle": false,
     "tableResultSettingsMap": {},
     "title": ""
    }
   },
   "outputs": [],
   "source": [
    "# Normalize X\n",
    "x_scaler = StandardScaler()\n",
    "X_normalized = x_scaler.fit_transform(X_imputed)\n",
    "\n",
    "# Normalize Y\n",
    "y_scaler = StandardScaler()\n",
    "y_normalized = y_scaler.fit_transform(y.values.reshape(-1, 1))"
   ]
  },
  {
   "cell_type": "markdown",
   "metadata": {
    "application/vnd.databricks.v1+cell": {
     "cellMetadata": {
      "byteLimit": 2048000,
      "rowLimit": 10000
     },
     "inputWidgets": {},
     "nuid": "74e3b679-bc7f-40eb-84df-cd20c890f100",
     "showTitle": false,
     "tableResultSettingsMap": {},
     "title": ""
    }
   },
   "source": [
    "## Split Dataset"
   ]
  },
  {
   "cell_type": "code",
   "execution_count": 0,
   "metadata": {
    "application/vnd.databricks.v1+cell": {
     "cellMetadata": {
      "byteLimit": 2048000,
      "rowLimit": 10000
     },
     "inputWidgets": {},
     "nuid": "12626ae5-30dd-46e7-b8c1-7bc59447bd6c",
     "showTitle": false,
     "tableResultSettingsMap": {},
     "title": ""
    }
   },
   "outputs": [],
   "source": [
    "# Train and Test Split\n",
    "X_train, X_test, y_train, y_test = train_test_split(X_normalized, y_normalized.ravel(), test_size=0.2, random_state=42) \n",
    "\n",
    "# Create lightgbm dataset\n",
    "train_data = lgb.Dataset(X_train, label=y_train)\n",
    "test_data = lgb.Dataset(X_test, label=y_test)"
   ]
  },
  {
   "cell_type": "markdown",
   "metadata": {
    "application/vnd.databricks.v1+cell": {
     "cellMetadata": {
      "byteLimit": 2048000,
      "rowLimit": 10000
     },
     "inputWidgets": {},
     "nuid": "72cb34f6-b928-4930-a84b-da43b0409751",
     "showTitle": false,
     "tableResultSettingsMap": {},
     "title": ""
    }
   },
   "source": [
    "## Train"
   ]
  },
  {
   "cell_type": "code",
   "execution_count": 0,
   "metadata": {
    "application/vnd.databricks.v1+cell": {
     "cellMetadata": {
      "byteLimit": 2048000,
      "rowLimit": 10000
     },
     "inputWidgets": {},
     "nuid": "018c5916-95f4-4376-b038-c9a1727701da",
     "showTitle": false,
     "tableResultSettingsMap": {},
     "title": ""
    }
   },
   "outputs": [
    {
     "name": "stderr",
     "output_type": "stream",
     "text": [
      "/local_disk0/.ephemeral_nfs/envs/pythonEnv-fb52e55e-2545-4b28-9d62-a32e0e10b9e7/lib/python3.11/site-packages/lightgbm/engine.py:204: UserWarning: Found `n_estimators` in params. Will use it instead of argument\n",
      "  _log_warning(f\"Found `{alias}` in params. Will use it instead of argument\")\n"
     ]
    },
    {
     "name": "stdout",
     "output_type": "stream",
     "text": [
      "[LightGBM] [Info] Auto-choosing row-wise multi-threading, the overhead of testing was 0.017214 seconds.\n",
      "You can set `force_row_wise=true` to remove the overhead.\n",
      "And if memory is not enough, you can set `force_col_wise=true`.\n",
      "[LightGBM] [Info] Total Bins 1058\n",
      "[LightGBM] [Info] Number of data points in the train set: 262816, number of used features: 8\n",
      "[LightGBM] [Info] Start training from score 0.000371\n"
     ]
    }
   ],
   "source": [
    "# Hyperparameters\n",
    "params = {\n",
    "    'objective': 'regression',\n",
    "    'metric': 'rmse',\n",
    "    'num_leaves': 31,\n",
    "    'learning_rate': 0.05,\n",
    "    'n_estimators': 100,\n",
    "}\n",
    "\n",
    "# Train model\n",
    "model = lgb.train(\n",
    "    params, \n",
    "    train_data, \n",
    "    num_boost_round=1000,\n",
    "    valid_sets=[test_data]\n",
    ")"
   ]
  },
  {
   "cell_type": "markdown",
   "metadata": {
    "application/vnd.databricks.v1+cell": {
     "cellMetadata": {
      "byteLimit": 2048000,
      "rowLimit": 10000
     },
     "inputWidgets": {},
     "nuid": "0da88d89-cce9-4d93-87da-664be32eefc8",
     "showTitle": false,
     "tableResultSettingsMap": {},
     "title": ""
    }
   },
   "source": [
    "## Commom metrics for Regression"
   ]
  },
  {
   "cell_type": "code",
   "execution_count": 0,
   "metadata": {
    "application/vnd.databricks.v1+cell": {
     "cellMetadata": {
      "byteLimit": 2048000,
      "rowLimit": 10000
     },
     "inputWidgets": {},
     "nuid": "58d3d447-c7d9-4702-84f0-64530d935490",
     "showTitle": false,
     "tableResultSettingsMap": {},
     "title": ""
    }
   },
   "outputs": [
    {
     "name": "stdout",
     "output_type": "stream",
     "text": [
      "MAE: 0.49211104228445735\n",
      "MSE: 0.8070401750502565\n",
      "RMSE: 0.8983541479006242\n",
      "R²: 0.1816685563264343\n"
     ]
    }
   ],
   "source": [
    "# Predict on test data\n",
    "y_pred = model.predict(X_test)\n",
    "\n",
    "# Calculate MAE\n",
    "mae = mean_absolute_error(y_test, y_pred)\n",
    "print(f\"MAE: {mae}\")\n",
    "\n",
    "# Calculate MSE\n",
    "mse = mean_squared_error(y_test, y_pred)\n",
    "print(f\"MSE: {mse}\")\n",
    "\n",
    "# Calculate RMSE\n",
    "rmse = np.sqrt(mse)\n",
    "print(f\"RMSE: {rmse}\")\n",
    "\n",
    "# Calculate R2\n",
    "r2 = r2_score(y_test, y_pred)\n",
    "print(f\"R²: {r2}\")"
   ]
  },
  {
   "cell_type": "markdown",
   "metadata": {
    "application/vnd.databricks.v1+cell": {
     "cellMetadata": {
      "byteLimit": 2048000,
      "rowLimit": 10000
     },
     "inputWidgets": {},
     "nuid": "6a7c58d9-f143-49e8-a8ba-eb21abfa0609",
     "showTitle": false,
     "tableResultSettingsMap": {},
     "title": ""
    }
   },
   "source": [
    "## Feature Importance"
   ]
  },
  {
   "cell_type": "code",
   "execution_count": 0,
   "metadata": {
    "application/vnd.databricks.v1+cell": {
     "cellMetadata": {
      "byteLimit": 2048000,
      "rowLimit": 10000
     },
     "inputWidgets": {},
     "nuid": "c83256b0-f6dc-4c86-b0f5-6efd800ac41d",
     "showTitle": false,
     "tableResultSettingsMap": {},
     "title": ""
    }
   },
   "outputs": [
    {
     "name": "stdout",
     "output_type": "stream",
     "text": [
      "          Feature  Importance\n",
      "3          clouds         550\n",
      "4            pres         504\n",
      "5        wind_spd         478\n",
      "2        distance         396\n",
      "6          precip         385\n",
      "0  sched_dep_time         383\n",
      "7            snow         189\n",
      "1  sched_arr_time         115\n"
     ]
    },
    {
     "data": {
      "image/png": "[encoded data removed]",
      "text/plain": [
       "<Figure size 1000x600 with 1 Axes>"
      ]
     },
     "metadata": {},
     "output_type": "display_data"
    }
   ],
   "source": [
    "import matplotlib.pyplot as plt\n",
    "\n",
    "feature_importance = model.feature_importance()\n",
    "\n",
    "feature_names = X.columns\n",
    "\n",
    "feature_importance_df = pd.DataFrame({\n",
    "    'Feature': feature_names,\n",
    "    'Importance': feature_importance\n",
    "})\n",
    "\n",
    "\n",
    "feature_importance_df = feature_importance_df.sort_values(by='Importance', ascending=False)\n",
    "print(feature_importance_df)\n",
    "\n",
    "plt.figure(figsize=(10, 6))\n",
    "plt.barh(feature_importance_df['Feature'], feature_importance_df['Importance'])\n",
    "plt.xlabel('Feature Importance')\n",
    "plt.ylabel('Feature')\n",
    "plt.title('Feature Importance from LightGBM')\n",
    "plt.show()\n"
   ]
  },
  {
   "cell_type": "markdown",
   "metadata": {
    "application/vnd.databricks.v1+cell": {
     "cellMetadata": {
      "byteLimit": 2048000,
      "rowLimit": 10000
     },
     "inputWidgets": {},
     "nuid": "1a444c85-0c5e-4c33-9cbf-f1bbba6f9f4f",
     "showTitle": false,
     "tableResultSettingsMap": {},
     "title": ""
    }
   },
   "source": [
    "## Save model as pickle"
   ]
  },
  {
   "cell_type": "code",
   "execution_count": 0,
   "metadata": {
    "application/vnd.databricks.v1+cell": {
     "cellMetadata": {
      "byteLimit": 2048000,
      "rowLimit": 10000
     },
     "inputWidgets": {},
     "nuid": "111edceb-6a44-4d37-836a-9b8936894e5f",
     "showTitle": false,
     "tableResultSettingsMap": {},
     "title": ""
    }
   },
   "outputs": [
    {
     "data": {
      "text/plain": [
       "[FileInfo(path='dbfs:/FileStore/shared_uploads/victorabatistella@gmail.com/airports_database.csv', name='airports_database.csv', size=42858599, modificationTime=1733324108000),\n",
       " FileInfo(path='dbfs:/FileStore/shared_uploads/victorabatistella@gmail.com/weather_data-1.json', name='weather_data-1.json', size=1016034, modificationTime=1734270263000),\n",
       " FileInfo(path='dbfs:/FileStore/shared_uploads/victorabatistella@gmail.com/weather_data-2.json', name='weather_data-2.json', size=1015722, modificationTime=1734270365000),\n",
       " FileInfo(path='dbfs:/FileStore/shared_uploads/victorabatistella@gmail.com/weather_data.csv', name='weather_data.csv', size=208181, modificationTime=1734270508000),\n",
       " FileInfo(path='dbfs:/FileStore/shared_uploads/victorabatistella@gmail.com/weather_data.json', name='weather_data.json', size=1016034, modificationTime=1734270121000)]"
      ]
     },
     "execution_count": 35,
     "metadata": {},
     "output_type": "execute_result"
    }
   ],
   "source": [
    "dbutils.fs.ls(\"/FileStore/shared_uploads/victorabatistella@gmail.com/\")\n"
   ]
  },
  {
   "cell_type": "code",
   "execution_count": 0,
   "metadata": {
    "application/vnd.databricks.v1+cell": {
     "cellMetadata": {
      "byteLimit": 2048000,
      "rowLimit": 10000
     },
     "inputWidgets": {},
     "nuid": "7170341f-fd05-46ff-8977-93589e413a50",
     "showTitle": false,
     "tableResultSettingsMap": {},
     "title": ""
    }
   },
   "outputs": [
    {
     "name": "stdout",
     "output_type": "stream",
     "text": [
      "Wrote 399852 bytes.\n"
     ]
    },
    {
     "data": {
      "text/html": [
       "<a href=\"/files/shared_uploads/victorabatistella@gmail.com/model.pkl\" download>Download Pickle</a>"
      ]
     },
     "metadata": {},
     "output_type": "display_data"
    }
   ],
   "source": [
    "import pickle\n",
    "import base64\n",
    "\n",
    "models_dict = {\n",
    "    'model': model,\n",
    "    'x_scaler': x_scaler,\n",
    "    'y_scaler': y_scaler\n",
    "}\n",
    "\n",
    "serialized_object = base64.b64encode(pickle.dumps(models_dict)).decode('utf-8')\n",
    "\n",
    "\n",
    "file_path = \"dbfs:/FileStore/shared_uploads/victorabatistella@gmail.com/model.pkl\"\n",
    "dbutils.fs.put(file_path, serialized_object, overwrite=True)\n",
    "\n",
    "displayHTML('<a href=\"/files/shared_uploads/victorabatistella@gmail.com/model.pkl\" download>Download Pickle</a>')\n"
   ]
  }
 ],
 "metadata": {
  "application/vnd.databricks.v1+notebook": {
   "computePreferences": null,
   "dashboards": [],
   "environmentMetadata": null,
   "language": "python",
   "notebookMetadata": {
    "mostRecentlyExecutedCommandWithImplicitDF": {
     "commandId": 2232045082273250,
     "dataframes": [
      "_sqldf"
     ]
    },
    "pythonIndentUnit": 4
   },
   "notebookName": "pic-case",
   "widgets": {}
  },
  "language_info": {
   "name": "python"
  }
 },
 "nbformat": 4,
 "nbformat_minor": 0
}
